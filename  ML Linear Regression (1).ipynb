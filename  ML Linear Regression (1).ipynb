{
 "cells": [
  {
   "cell_type": "markdown",
   "metadata": {},
   "source": [
    "# LINEAR REGRESSION."
   ]
  },
  {
   "cell_type": "code",
   "execution_count": 5,
   "metadata": {},
   "outputs": [],
   "source": [
    "import numpy as np\n",
    "import pandas as pd\n",
    "import seaborn as sb\n",
    "import matplotlib.pyplot as plt\n",
    "from sklearn.model_selection import train_test_split\n",
    "from sklearn.linear_model import LinearRegression\n",
    "from sklearn.metrics import r2_score"
   ]
  },
  {
   "cell_type": "code",
   "execution_count": 6,
   "metadata": {},
   "outputs": [
    {
     "data": {
      "text/html": [
       "<div>\n",
       "<style scoped>\n",
       "    .dataframe tbody tr th:only-of-type {\n",
       "        vertical-align: middle;\n",
       "    }\n",
       "\n",
       "    .dataframe tbody tr th {\n",
       "        vertical-align: top;\n",
       "    }\n",
       "\n",
       "    .dataframe thead th {\n",
       "        text-align: right;\n",
       "    }\n",
       "</style>\n",
       "<table border=\"1\" class=\"dataframe\">\n",
       "  <thead>\n",
       "    <tr style=\"text-align: right;\">\n",
       "      <th></th>\n",
       "      <th>place</th>\n",
       "      <th>built</th>\n",
       "      <th>sqft</th>\n",
       "      <th>sale</th>\n",
       "      <th>yearsOld</th>\n",
       "      <th>floor</th>\n",
       "      <th>totalFloor</th>\n",
       "      <th>bhk</th>\n",
       "      <th>price</th>\n",
       "    </tr>\n",
       "  </thead>\n",
       "  <tbody>\n",
       "    <tr>\n",
       "      <th>0</th>\n",
       "      <td>BTM Layout</td>\n",
       "      <td>Super built-up  Area</td>\n",
       "      <td>1450</td>\n",
       "      <td>Resale</td>\n",
       "      <td>5</td>\n",
       "      <td>1</td>\n",
       "      <td>4</td>\n",
       "      <td>1</td>\n",
       "      <td>6300000</td>\n",
       "    </tr>\n",
       "    <tr>\n",
       "      <th>1</th>\n",
       "      <td>Yelahanka</td>\n",
       "      <td>Super built-up  Area</td>\n",
       "      <td>2190</td>\n",
       "      <td>Resale</td>\n",
       "      <td>5</td>\n",
       "      <td>3</td>\n",
       "      <td>5</td>\n",
       "      <td>3</td>\n",
       "      <td>11500000</td>\n",
       "    </tr>\n",
       "    <tr>\n",
       "      <th>2</th>\n",
       "      <td>Whitefield</td>\n",
       "      <td>Super built-up  Area</td>\n",
       "      <td>1019</td>\n",
       "      <td>Resale</td>\n",
       "      <td>1</td>\n",
       "      <td>2</td>\n",
       "      <td>5</td>\n",
       "      <td>2</td>\n",
       "      <td>3800000</td>\n",
       "    </tr>\n",
       "    <tr>\n",
       "      <th>3</th>\n",
       "      <td>Ambalipura</td>\n",
       "      <td>Super built-up  Area</td>\n",
       "      <td>1857</td>\n",
       "      <td>Resale</td>\n",
       "      <td>15</td>\n",
       "      <td>4</td>\n",
       "      <td>5</td>\n",
       "      <td>4</td>\n",
       "      <td>10500000</td>\n",
       "    </tr>\n",
       "    <tr>\n",
       "      <th>4</th>\n",
       "      <td>Yelahanka</td>\n",
       "      <td>Super built-up  Area</td>\n",
       "      <td>2190</td>\n",
       "      <td>Resale</td>\n",
       "      <td>5</td>\n",
       "      <td>3</td>\n",
       "      <td>5</td>\n",
       "      <td>3</td>\n",
       "      <td>11500000</td>\n",
       "    </tr>\n",
       "  </tbody>\n",
       "</table>\n",
       "</div>"
      ],
      "text/plain": [
       "        place                 built  sqft    sale  yearsOld  floor  \\\n",
       "0  BTM Layout  Super built-up  Area  1450  Resale         5      1   \n",
       "1   Yelahanka  Super built-up  Area  2190  Resale         5      3   \n",
       "2  Whitefield  Super built-up  Area  1019  Resale         1      2   \n",
       "3  Ambalipura  Super built-up  Area  1857  Resale        15      4   \n",
       "4   Yelahanka  Super built-up  Area  2190  Resale         5      3   \n",
       "\n",
       "   totalFloor  bhk     price  \n",
       "0           4    1   6300000  \n",
       "1           5    3  11500000  \n",
       "2           5    2   3800000  \n",
       "3           5    4  10500000  \n",
       "4           5    3  11500000  "
      ]
     },
     "execution_count": 6,
     "metadata": {},
     "output_type": "execute_result"
    }
   ],
   "source": [
    "data = pd.read_csv('hp_data.csv')\n",
    "data.head()"
   ]
  },
  {
   "cell_type": "code",
   "execution_count": 7,
   "metadata": {},
   "outputs": [
    {
     "data": {
      "text/plain": [
       "(3500, 9)"
      ]
     },
     "execution_count": 7,
     "metadata": {},
     "output_type": "execute_result"
    }
   ],
   "source": [
    "#basic checks\n",
    "data.shape"
   ]
  },
  {
   "cell_type": "code",
   "execution_count": 8,
   "metadata": {},
   "outputs": [
    {
     "data": {
      "text/plain": [
       "place         0\n",
       "built         0\n",
       "sqft          0\n",
       "sale          0\n",
       "yearsOld      0\n",
       "floor         0\n",
       "totalFloor    0\n",
       "bhk           0\n",
       "price         0\n",
       "dtype: int64"
      ]
     },
     "execution_count": 8,
     "metadata": {},
     "output_type": "execute_result"
    }
   ],
   "source": [
    "data.isnull().sum()"
   ]
  },
  {
   "cell_type": "code",
   "execution_count": 9,
   "metadata": {},
   "outputs": [
    {
     "name": "stdout",
     "output_type": "stream",
     "text": [
      "<class 'pandas.core.frame.DataFrame'>\n",
      "RangeIndex: 3500 entries, 0 to 3499\n",
      "Data columns (total 9 columns):\n",
      " #   Column      Non-Null Count  Dtype \n",
      "---  ------      --------------  ----- \n",
      " 0   place       3500 non-null   object\n",
      " 1   built       3500 non-null   object\n",
      " 2   sqft        3500 non-null   int64 \n",
      " 3   sale        3500 non-null   object\n",
      " 4   yearsOld    3500 non-null   int64 \n",
      " 5   floor       3500 non-null   int64 \n",
      " 6   totalFloor  3500 non-null   int64 \n",
      " 7   bhk         3500 non-null   int64 \n",
      " 8   price       3500 non-null   int64 \n",
      "dtypes: int64(6), object(3)\n",
      "memory usage: 246.2+ KB\n"
     ]
    }
   ],
   "source": [
    "data.info()"
   ]
  },
  {
   "cell_type": "code",
   "execution_count": 18,
   "metadata": {},
   "outputs": [
    {
     "data": {
      "text/html": [
       "<div>\n",
       "<style scoped>\n",
       "    .dataframe tbody tr th:only-of-type {\n",
       "        vertical-align: middle;\n",
       "    }\n",
       "\n",
       "    .dataframe tbody tr th {\n",
       "        vertical-align: top;\n",
       "    }\n",
       "\n",
       "    .dataframe thead th {\n",
       "        text-align: right;\n",
       "    }\n",
       "</style>\n",
       "<table border=\"1\" class=\"dataframe\">\n",
       "  <thead>\n",
       "    <tr style=\"text-align: right;\">\n",
       "      <th></th>\n",
       "      <th>sqft</th>\n",
       "      <th>yearsOld</th>\n",
       "      <th>floor</th>\n",
       "      <th>totalFloor</th>\n",
       "      <th>bhk</th>\n",
       "      <th>price</th>\n",
       "    </tr>\n",
       "  </thead>\n",
       "  <tbody>\n",
       "    <tr>\n",
       "      <th>sqft</th>\n",
       "      <td>1.000000</td>\n",
       "      <td>0.229461</td>\n",
       "      <td>0.356053</td>\n",
       "      <td>0.358946</td>\n",
       "      <td>0.356053</td>\n",
       "      <td>0.778364</td>\n",
       "    </tr>\n",
       "    <tr>\n",
       "      <th>yearsOld</th>\n",
       "      <td>0.229461</td>\n",
       "      <td>1.000000</td>\n",
       "      <td>-0.116427</td>\n",
       "      <td>-0.142562</td>\n",
       "      <td>-0.116427</td>\n",
       "      <td>0.215712</td>\n",
       "    </tr>\n",
       "    <tr>\n",
       "      <th>floor</th>\n",
       "      <td>0.356053</td>\n",
       "      <td>-0.116427</td>\n",
       "      <td>1.000000</td>\n",
       "      <td>0.958100</td>\n",
       "      <td>1.000000</td>\n",
       "      <td>0.263472</td>\n",
       "    </tr>\n",
       "    <tr>\n",
       "      <th>totalFloor</th>\n",
       "      <td>0.358946</td>\n",
       "      <td>-0.142562</td>\n",
       "      <td>0.958100</td>\n",
       "      <td>1.000000</td>\n",
       "      <td>0.958100</td>\n",
       "      <td>0.402256</td>\n",
       "    </tr>\n",
       "    <tr>\n",
       "      <th>bhk</th>\n",
       "      <td>0.356053</td>\n",
       "      <td>-0.116427</td>\n",
       "      <td>1.000000</td>\n",
       "      <td>0.958100</td>\n",
       "      <td>1.000000</td>\n",
       "      <td>0.263472</td>\n",
       "    </tr>\n",
       "    <tr>\n",
       "      <th>price</th>\n",
       "      <td>0.778364</td>\n",
       "      <td>0.215712</td>\n",
       "      <td>0.263472</td>\n",
       "      <td>0.402256</td>\n",
       "      <td>0.263472</td>\n",
       "      <td>1.000000</td>\n",
       "    </tr>\n",
       "  </tbody>\n",
       "</table>\n",
       "</div>"
      ],
      "text/plain": [
       "                sqft  yearsOld     floor  totalFloor       bhk     price\n",
       "sqft        1.000000  0.229461  0.356053    0.358946  0.356053  0.778364\n",
       "yearsOld    0.229461  1.000000 -0.116427   -0.142562 -0.116427  0.215712\n",
       "floor       0.356053 -0.116427  1.000000    0.958100  1.000000  0.263472\n",
       "totalFloor  0.358946 -0.142562  0.958100    1.000000  0.958100  0.402256\n",
       "bhk         0.356053 -0.116427  1.000000    0.958100  1.000000  0.263472\n",
       "price       0.778364  0.215712  0.263472    0.402256  0.263472  1.000000"
      ]
     },
     "execution_count": 18,
     "metadata": {},
     "output_type": "execute_result"
    }
   ],
   "source": [
    "data.corr()"
   ]
  },
  {
   "cell_type": "code",
   "execution_count": 19,
   "metadata": {},
   "outputs": [
    {
     "data": {
      "text/plain": [
       "<matplotlib.axes._subplots.AxesSubplot at 0x1d1dbef47c8>"
      ]
     },
     "execution_count": 19,
     "metadata": {},
     "output_type": "execute_result"
    },
    {
     "data": {
      "image/png": "[encoded data removed]",
      "text/plain": [
       "<Figure size 432x288 with 2 Axes>"
      ]
     },
     "metadata": {
      "needs_background": "light"
     },
     "output_type": "display_data"
    }
   ],
   "source": [
    "sb.heatmap(data.corr())"
   ]
  },
  {
   "cell_type": "code",
   "execution_count": 20,
   "metadata": {},
   "outputs": [
    {
     "data": {
      "text/plain": [
       "<seaborn.axisgrid.PairGrid at 0x1d1de064c88>"
      ]
     },
     "execution_count": 20,
     "metadata": {},
     "output_type": "execute_result"
    },
    {
     "data": {
      "image/png": "[encoded data removed]",
      "text/plain": [
       "<Figure size 1080x1080 with 42 Axes>"
      ]
     },
     "metadata": {
      "needs_background": "light"
     },
     "output_type": "display_data"
    }
   ],
   "source": [
    "sb.pairplot(data) # creates histograms of all columns"
   ]
  },
  {
   "cell_type": "code",
   "execution_count": 21,
   "metadata": {},
   "outputs": [
    {
     "data": {
      "text/plain": [
       "<matplotlib.axes._subplots.AxesSubplot at 0x1d1df3ed5c8>"
      ]
     },
     "execution_count": 21,
     "metadata": {},
     "output_type": "execute_result"
    },
    {
     "data": {
      "image/png": "[encoded data removed]",
      "text/plain": [
       "<Figure size 432x288 with 1 Axes>"
      ]
     },
     "metadata": {
      "needs_background": "light"
     },
     "output_type": "display_data"
    }
   ],
   "source": [
    "sb.distplot(data['price']) #to check the distribution of target column"
   ]
  },
  {
   "cell_type": "code",
   "execution_count": 10,
   "metadata": {},
   "outputs": [],
   "source": [
    "# Define X and Y \n",
    "X = data.loc[:,['sqft','yearsOld','floor']]\n",
    "y = data.price"
   ]
  },
  {
   "cell_type": "code",
   "execution_count": 11,
   "metadata": {},
   "outputs": [],
   "source": [
    "#Train-Test Split\n",
    "X_train, X_test,y_train,y_test = train_test_split(X,y,random_state=9)"
   ]
  },
  {
   "cell_type": "code",
   "execution_count": 12,
   "metadata": {},
   "outputs": [
    {
     "name": "stdout",
     "output_type": "stream",
     "text": [
      "X_train Shape (2625, 3)\n",
      "X_test Shape (875, 3)\n",
      "y_train Shape (2625,)\n",
      "y_test Shape (875,)\n"
     ]
    }
   ],
   "source": [
    "print(\"X_train Shape\",X_train.shape) #takes 75% of data for training\n",
    "print(\"X_test Shape\",X_test.shape) # takes 25% of data for testing\n",
    "print(\"y_train Shape\",y_train.shape) #takes 75% of data for training\n",
    "print(\"y_test Shape\",y_test.shape) #takes 25% of data for testing"
   ]
  },
  {
   "cell_type": "code",
   "execution_count": 13,
   "metadata": {},
   "outputs": [],
   "source": [
    "# Define the model\n",
    "model = LinearRegression()\n",
    "model.fit(X_train, y_train)# fit in ML is for training\n",
    "y_predict = model.predict(X_test)# for prediction"
   ]
  },
  {
   "cell_type": "code",
   "execution_count": 14,
   "metadata": {},
   "outputs": [
    {
     "data": {
      "text/plain": [
       "0.605399006294764"
      ]
     },
     "execution_count": 14,
     "metadata": {},
     "output_type": "execute_result"
    }
   ],
   "source": [
    "r2_score(y_test,y_predict) # it gives us model fitness efficiency"
   ]
  },
  {
   "cell_type": "code",
   "execution_count": 15,
   "metadata": {},
   "outputs": [
    {
     "data": {
      "text/plain": [
       "321     11500000\n",
       "2099     4900000\n",
       "2823     3800000\n",
       "257     29300000\n",
       "765     10500000\n",
       "Name: price, dtype: int64"
      ]
     },
     "execution_count": 15,
     "metadata": {},
     "output_type": "execute_result"
    }
   ],
   "source": [
    "y_test[0:5]"
   ]
  },
  {
   "cell_type": "code",
   "execution_count": 16,
   "metadata": {},
   "outputs": [
    {
     "data": {
      "text/plain": [
       "array([13842831.93893931,  3916882.68221032,  2940384.39287247,\n",
       "       16326676.79726404, 11421547.61948198])"
      ]
     },
     "execution_count": 16,
     "metadata": {},
     "output_type": "execute_result"
    }
   ],
   "source": [
    "y_predict[0:5]"
   ]
  },
  {
   "cell_type": "code",
   "execution_count": 22,
   "metadata": {},
   "outputs": [
    {
     "data": {
      "text/plain": [
       "<matplotlib.collections.PathCollection at 0x1d1df96dd08>"
      ]
     },
     "execution_count": 22,
     "metadata": {},
     "output_type": "execute_result"
    },
    {
     "data": {
      "image/png": "[encoded data removed]",
      "text/plain": [
       "<Figure size 432x288 with 1 Axes>"
      ]
     },
     "metadata": {
      "needs_background": "light"
     },
     "output_type": "display_data"
    }
   ],
   "source": [
    "plt.scatter(y_test,y_predict)"
   ]
  },
  {
   "cell_type": "code",
   "execution_count": 23,
   "metadata": {},
   "outputs": [
    {
     "data": {
      "text/plain": [
       "<matplotlib.axes._subplots.AxesSubplot at 0x1d1df9a5cc8>"
      ]
     },
     "execution_count": 23,
     "metadata": {},
     "output_type": "execute_result"
    },
    {
     "data": {
      "image/png": "[encoded data removed]",
      "text/plain": [
       "<Figure size 432x288 with 1 Axes>"
      ]
     },
     "metadata": {
      "needs_background": "light"
     },
     "output_type": "display_data"
    }
   ],
   "source": [
    "sb.distplot(y_test-y_predict) # Its a histogram of residuals which is normal distribution. therefore our modelis correct choice for data set"
   ]
  },
  {
   "cell_type": "code",
   "execution_count": null,
   "metadata": {},
   "outputs": [],
   "source": []
  },
  {
   "cell_type": "code",
   "execution_count": null,
   "metadata": {},
   "outputs": [],
   "source": []
  },
  {
   "cell_type": "code",
   "execution_count": null,
   "metadata": {},
   "outputs": [],
   "source": []
  }
 ],
 "metadata": {
  "kernelspec": {
   "display_name": "Python 3",
   "language": "python",
   "name": "python3"
  },
  "language_info": {
   "codemirror_mode": {
    "name": "ipython",
    "version": 3
   },
   "file_extension": ".py",
   "mimetype": "text/x-python",
   "name": "python",
   "nbconvert_exporter": "python",
   "pygments_lexer": "ipython3",
   "version": "3.7.6"
  }
 },
 "nbformat": 4,
 "nbformat_minor": 4
}
